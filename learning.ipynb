{
 "cells": [
  {
   "cell_type": "markdown",
   "id": "09a7417c",
   "metadata": {},
   "source": [
    "#### Things I learned or wanted to write down as a reminder while working on this project\n",
    "#### Notes Compiled By: Noemi Turner "
   ]
  },
  {
   "cell_type": "markdown",
   "id": "e1f25516",
   "metadata": {},
   "source": [
    "#### What is a codespace? \n",
    "A codespace is a development environment that's hosted in the cloud.\n",
    "https://docs.github.com/en/codespaces/overview\n",
    "![image](https://github.com/user-attachments/assets/182e5d19-b4e0-472c-ae0a-3050e23a2157)\n",
    "\n",
    "#### I liked these analogies (Shout out to Reddit posts for explaining tech in an easy-to-understand type of way)\n",
    "CPU: Is a super-talented mathematician  \n",
    "Memory: The scratchpad the CPU uses to work out the math  \n",
    "Disk: The filing cabinet. Very slow compared to memory. Holds all the math problem worksheets and answer sheets.  \n",
    "GPU: It's a calculator that is good at performing a gigantic amount of simple-ish calculations all at once.  \n",
    "\n",
    "#### What is React?\n",
    "\"React is a Javascript Library that was created by Facebook for building better User Interface(UI) web applications and mobile applications. It is an open-source library for creating interactive and dynamic applications.\"\n",
    " (https://www.geeksforgeeks.org/build-a-basic-react-app-that-display-hello-world/)\n"
   ]
  },
  {
   "cell_type": "markdown",
   "id": "87c690f3",
   "metadata": {},
   "source": [
    "### Installing Node.js on Linux for Ubuntu / Debian-based distributions:\n",
    "1. Update your package index:"
   ]
  },
  {
   "cell_type": "code",
   "execution_count": null,
   "id": "270220a4",
   "metadata": {
    "vscode": {
     "languageId": "plaintext"
    }
   },
   "outputs": [],
   "source": [
    "sudo apt update"
   ]
  },
  {
   "cell_type": "markdown",
   "id": "c6c833c7",
   "metadata": {},
   "source": [
    "2. Install Node.js and npm\n",
    "You can use the default package manager, but it often includes an outdated version"
   ]
  },
  {
   "cell_type": "code",
   "execution_count": null,
   "id": "c958cf77",
   "metadata": {
    "vscode": {
     "languageId": "plaintext"
    }
   },
   "outputs": [],
   "source": [
    "sudo apt install nodejs npm"
   ]
  },
  {
   "cell_type": "markdown",
   "id": "3b74f824",
   "metadata": {},
   "source": [
    "3. Check versions"
   ]
  },
  {
   "cell_type": "code",
   "execution_count": null,
   "id": "cc9d8e90",
   "metadata": {
    "vscode": {
     "languageId": "plaintext"
    }
   },
   "outputs": [],
   "source": [
    "node -v\n",
    "npm -v"
   ]
  }
 ],
 "metadata": {
  "language_info": {
   "name": "python"
  }
 },
 "nbformat": 4,
 "nbformat_minor": 5
}
